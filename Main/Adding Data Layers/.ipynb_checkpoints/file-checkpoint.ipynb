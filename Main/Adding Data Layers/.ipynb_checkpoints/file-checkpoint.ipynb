{
 "cells": [
  {
   "cell_type": "code",
   "execution_count": 4,
   "metadata": {},
   "outputs": [],
   "source": [
    "import gmaps\n",
    "import gmaps.datasets\n",
    "import pandas as pd\n"
   ]
  },
  {
   "cell_type": "code",
   "execution_count": 5,
   "metadata": {},
   "outputs": [],
   "source": [
    "# Load the data from the CSV file\n",
    "data = pd.read_csv(\"data.csv\")\n",
    "\n",
    "# Extract latitude and longitude columns\n",
    "latitudes = data[\"Latitude\"]\n",
    "longitudes = data[\"Longitude\"]\n"
   ]
  },
  {
   "cell_type": "code",
   "execution_count": 6,
   "metadata": {},
   "outputs": [
    {
     "data": {
      "application/vnd.jupyter.widget-view+json": {
       "model_id": "c242e44167254227ba136ad91a84c006",
       "version_major": 2,
       "version_minor": 0
      },
      "text/plain": [
       "Figure(layout=FigureLayout(height='420px'))"
      ]
     },
     "execution_count": 6,
     "metadata": {},
     "output_type": "execute_result"
    }
   ],
   "source": [
    "# Configure the API key\n",
    "gmaps.configure(api_key='***REMOVED***')\n",
    "\n",
    "# Create a figure\n",
    "fig = gmaps.figure(center=(data[\"Latitude\"].mean(), data[\"Longitude\"].mean()), zoom_level=10)\n",
    "\n",
    "# Create a heatmap layer and add it to the figure\n",
    "heatmap_layer = gmaps.heatmap_layer(locations=list(zip(latitudes, longitudes)))\n",
    "fig.add_layer(heatmap_layer)\n",
    "\n",
    "# Display the heatmap\n",
    "fig\n"
   ]
  },
  {
   "cell_type": "code",
   "execution_count": null,
   "metadata": {},
   "outputs": [],
   "source": []
  }
 ],
 "metadata": {
  "kernelspec": {
   "display_name": "Python 3 (ipykernel)",
   "language": "python",
   "name": "python3"
  },
  "language_info": {
   "codemirror_mode": {
    "name": "ipython",
    "version": 3
   },
   "file_extension": ".py",
   "mimetype": "text/x-python",
   "name": "python",
   "nbconvert_exporter": "python",
   "pygments_lexer": "ipython3",
   "version": "3.11.5"
  }
 },
 "nbformat": 4,
 "nbformat_minor": 2
}
