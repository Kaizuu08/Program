{
 "cells": [
  {
   "cell_type": "code",
   "execution_count": 1,
   "metadata": {},
   "outputs": [],
   "source": [
    "import gmaps\n",
    "import gmaps.datasets\n",
    "import pandas as pd\n"
   ]
  },
  {
   "cell_type": "code",
   "execution_count": 2,
   "metadata": {},
   "outputs": [],
   "source": [
    "# Load the data from the CSV file\n",
    "data = pd.read_csv(\"data.csv\")\n",
    "\n",
    "# Extract latitude and longitude columns\n",
    "latitudes = data[\"Latitude\"]\n",
    "longitudes = data[\"Longitude\"]\n"
   ]
  },
  {
   "cell_type": "code",
   "execution_count": 3,
   "metadata": {},
   "outputs": [
    {
     "data": {
      "application/vnd.jupyter.widget-view+json": {
       "model_id": "ca7257fa94a84e1b9da31c670e41c965",
       "version_major": 2,
       "version_minor": 0
      },
      "text/plain": [
       "Figure(layout=FigureLayout(height='420px'))"
      ]
     },
     "execution_count": 3,
     "metadata": {},
     "output_type": "execute_result"
    }
   ],
   "source": [
    "# Configure the API key\n",
    "gmaps.configure(api_key='***REMOVED***')\n",
    "\n",
    "# Create a figure\n",
    "fig = gmaps.figure(center=(data[latitude[1]](), data[longitude[1]].mean()), zoom_level=10)\n",
    "\n",
    "# Create a heatmap layer and add it to the figure\n",
    "heatmap_layer = gmaps.heatmap_layer(locations=list(zip(latitudes, longitudes)))\n",
    "fig.add_layer(heatmap_layer)\n",
    "\n",
    "# Display the heatmap\n",
    "fig\n"
   ]
  },
  {
   "cell_type": "code",
   "execution_count": null,
   "metadata": {},
   "outputs": [],
   "source": []
  }
 ],
 "metadata": {
  "kernelspec": {
   "display_name": "Python 3 (ipykernel)",
   "language": "python",
   "name": "python3"
  },
  "language_info": {
   "codemirror_mode": {
    "name": "ipython",
    "version": 3
   },
   "file_extension": ".py",
   "mimetype": "text/x-python",
   "name": "python",
   "nbconvert_exporter": "python",
   "pygments_lexer": "ipython3",
   "version": "3.11.5"
  }
 },
 "nbformat": 4,
 "nbformat_minor": 2
}
